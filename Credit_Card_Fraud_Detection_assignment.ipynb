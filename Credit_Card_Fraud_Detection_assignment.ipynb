{
  "nbformat": 4,
  "nbformat_minor": 0,
  "metadata": {
    "kernelspec": {
      "display_name": "Python 3",
      "language": "python",
      "name": "python3"
    },
    "language_info": {
      "codemirror_mode": {
        "name": "ipython",
        "version": 3
      },
      "file_extension": ".py",
      "mimetype": "text/x-python",
      "name": "python",
      "nbconvert_exporter": "python",
      "pygments_lexer": "ipython3",
      "version": "3.7.3"
    },
    "colab": {
      "name": "Credit Card Fraud Detection assignment.ipynb",
      "provenance": [],
      "collapsed_sections": [],
      "toc_visible": true
    }
  },
  "cells": [
    {
      "cell_type": "markdown",
      "metadata": {
        "id": "ltnBxQOeOqES"
      },
      "source": [
        "# Credit Card Fraud Detection::"
      ]
    },
    {
      "cell_type": "code",
      "metadata": {
        "colab": {
          "base_uri": "https://localhost:8080/"
        },
        "id": "7NaD3QYs1mu7",
        "outputId": "afd6693b-a469-4941-9601-49368ef80a52"
      },
      "source": [
        "from google.colab import drive\n",
        "drive.mount('/content/drive')"
      ],
      "execution_count": 8,
      "outputs": [
        {
          "output_type": "stream",
          "text": [
            "Drive already mounted at /content/drive; to attempt to forcibly remount, call drive.mount(\"/content/drive\", force_remount=True).\n"
          ],
          "name": "stdout"
        }
      ]
    },
    {
      "cell_type": "markdown",
      "metadata": {
        "id": "r9h-Z5ROOqEa"
      },
      "source": [
        "Download dataset from this link:\n",
        "\n",
        "https://www.kaggle.com/mlg-ulb/creditcardfraud"
      ]
    },
    {
      "cell_type": "markdown",
      "metadata": {
        "id": "Yjki_1pROqEd"
      },
      "source": [
        "# Description about dataset::"
      ]
    },
    {
      "cell_type": "markdown",
      "metadata": {
        "id": "TUSXDarpOqEf"
      },
      "source": [
        "The datasets contains transactions made by credit cards in September 2013 by european cardholders.\n",
        "This dataset presents transactions that occurred in two days, where we have 492 frauds out of 284,807 transactions. The dataset is highly unbalanced, the positive class (frauds) account for 0.172% of all transactions.\n",
        "\n",
        "It contains only numerical input variables which are the result of a PCA transformation. Unfortunately, due to confidentiality issues, we cannot provide the original features and more background information about the data. Features V1, V2, … V28 are the principal components obtained with PCA, the only features which have not been transformed with PCA are 'Time' and 'Amount'. Feature 'Time' contains the seconds elapsed between each transaction and the first transaction in the dataset. The feature 'Amount' is the transaction Amount, this feature can be used for example-dependant cost-senstive learning. \n",
        "\n",
        "\n",
        "### Feature 'Class' is the response variable and it takes value 1 in case of fraud and 0 otherwise."
      ]
    },
    {
      "cell_type": "markdown",
      "metadata": {
        "id": "hAKQ44O3OqEh"
      },
      "source": [
        "# WORKFLOW :"
      ]
    },
    {
      "cell_type": "markdown",
      "metadata": {
        "id": "wLYAw5lIOqEi"
      },
      "source": [
        "1.Load Data\n",
        "\n",
        "2.Check Missing Values ( If Exist ; Fill each record with mean of its feature )\n",
        "\n",
        "3.Standardized the Input Variables. \n",
        "\n",
        "4.Split into 50% Training(Samples,Labels) , 30% Test(Samples,Labels) and 20% Validation Data(Samples,Labels).\n",
        "\n",
        "5.Model : input Layer (No. of features ), 3 hidden layers including 10,8,6 unit & Output Layer with activation function relu/tanh (check by experiment).\n",
        "\n",
        "6.Compilation Step (Note : Its a Binary problem , select loss , metrics according to it)\n",
        "\n",
        "7.Train the Model with Epochs (100).\n",
        "\n",
        "8.If the model gets overfit tune your model by changing the units , No. of layers , epochs , add dropout layer or add Regularizer according to the need .\n",
        "\n",
        "9.Prediction should be > 92%\n",
        "10.Evaluation Step\n",
        "11Prediction\n"
      ]
    },
    {
      "cell_type": "markdown",
      "metadata": {
        "id": "OePycTn6OqEk"
      },
      "source": [
        "# Task::"
      ]
    },
    {
      "cell_type": "markdown",
      "metadata": {
        "id": "Kie_DAQ6OqEl"
      },
      "source": [
        "## Identify fraudulent credit card transactions."
      ]
    },
    {
      "cell_type": "code",
      "metadata": {
        "id": "GYyPVltPOqEm"
      },
      "source": [
        "from tensorflow.keras.models import Sequential\n",
        "from tensorflow.keras.layers import Dense\n",
        "import pandas as pd\n",
        "import numpy as np \n",
        "from tensorflow.keras.datasets import mnist\n",
        "from tensorflow.keras.utils import to_categorical\n",
        "import matplotlib.pyplot as plt\n",
        "from sklearn.model_selection import train_test_split"
      ],
      "execution_count": 115,
      "outputs": []
    },
    {
      "cell_type": "code",
      "metadata": {
        "id": "BvwfkSWdOqEn"
      },
      "source": [
        "df=pd.read_csv('drive/MyDrive/creditcard.csv')"
      ],
      "execution_count": 99,
      "outputs": []
    },
    {
      "cell_type": "code",
      "metadata": {
        "id": "pDicqKmHOqEo",
        "colab": {
          "base_uri": "https://localhost:8080/",
          "height": 224
        },
        "outputId": "c4b22dfe-105a-4adf-b689-546db74a3a99"
      },
      "source": [
        "data=df.copy()\n",
        "data.head()"
      ],
      "execution_count": 100,
      "outputs": [
        {
          "output_type": "execute_result",
          "data": {
            "text/html": [
              "<div>\n",
              "<style scoped>\n",
              "    .dataframe tbody tr th:only-of-type {\n",
              "        vertical-align: middle;\n",
              "    }\n",
              "\n",
              "    .dataframe tbody tr th {\n",
              "        vertical-align: top;\n",
              "    }\n",
              "\n",
              "    .dataframe thead th {\n",
              "        text-align: right;\n",
              "    }\n",
              "</style>\n",
              "<table border=\"1\" class=\"dataframe\">\n",
              "  <thead>\n",
              "    <tr style=\"text-align: right;\">\n",
              "      <th></th>\n",
              "      <th>Time</th>\n",
              "      <th>V1</th>\n",
              "      <th>V2</th>\n",
              "      <th>V3</th>\n",
              "      <th>V4</th>\n",
              "      <th>V5</th>\n",
              "      <th>V6</th>\n",
              "      <th>V7</th>\n",
              "      <th>V8</th>\n",
              "      <th>V9</th>\n",
              "      <th>V10</th>\n",
              "      <th>V11</th>\n",
              "      <th>V12</th>\n",
              "      <th>V13</th>\n",
              "      <th>V14</th>\n",
              "      <th>V15</th>\n",
              "      <th>V16</th>\n",
              "      <th>V17</th>\n",
              "      <th>V18</th>\n",
              "      <th>V19</th>\n",
              "      <th>V20</th>\n",
              "      <th>V21</th>\n",
              "      <th>V22</th>\n",
              "      <th>V23</th>\n",
              "      <th>V24</th>\n",
              "      <th>V25</th>\n",
              "      <th>V26</th>\n",
              "      <th>V27</th>\n",
              "      <th>V28</th>\n",
              "      <th>Amount</th>\n",
              "      <th>Class</th>\n",
              "    </tr>\n",
              "  </thead>\n",
              "  <tbody>\n",
              "    <tr>\n",
              "      <th>0</th>\n",
              "      <td>0.0</td>\n",
              "      <td>-1.359807</td>\n",
              "      <td>-0.072781</td>\n",
              "      <td>2.536347</td>\n",
              "      <td>1.378155</td>\n",
              "      <td>-0.338321</td>\n",
              "      <td>0.462388</td>\n",
              "      <td>0.239599</td>\n",
              "      <td>0.098698</td>\n",
              "      <td>0.363787</td>\n",
              "      <td>0.090794</td>\n",
              "      <td>-0.551600</td>\n",
              "      <td>-0.617801</td>\n",
              "      <td>-0.991390</td>\n",
              "      <td>-0.311169</td>\n",
              "      <td>1.468177</td>\n",
              "      <td>-0.470401</td>\n",
              "      <td>0.207971</td>\n",
              "      <td>0.025791</td>\n",
              "      <td>0.403993</td>\n",
              "      <td>0.251412</td>\n",
              "      <td>-0.018307</td>\n",
              "      <td>0.277838</td>\n",
              "      <td>-0.110474</td>\n",
              "      <td>0.066928</td>\n",
              "      <td>0.128539</td>\n",
              "      <td>-0.189115</td>\n",
              "      <td>0.133558</td>\n",
              "      <td>-0.021053</td>\n",
              "      <td>149.62</td>\n",
              "      <td>0</td>\n",
              "    </tr>\n",
              "    <tr>\n",
              "      <th>1</th>\n",
              "      <td>0.0</td>\n",
              "      <td>1.191857</td>\n",
              "      <td>0.266151</td>\n",
              "      <td>0.166480</td>\n",
              "      <td>0.448154</td>\n",
              "      <td>0.060018</td>\n",
              "      <td>-0.082361</td>\n",
              "      <td>-0.078803</td>\n",
              "      <td>0.085102</td>\n",
              "      <td>-0.255425</td>\n",
              "      <td>-0.166974</td>\n",
              "      <td>1.612727</td>\n",
              "      <td>1.065235</td>\n",
              "      <td>0.489095</td>\n",
              "      <td>-0.143772</td>\n",
              "      <td>0.635558</td>\n",
              "      <td>0.463917</td>\n",
              "      <td>-0.114805</td>\n",
              "      <td>-0.183361</td>\n",
              "      <td>-0.145783</td>\n",
              "      <td>-0.069083</td>\n",
              "      <td>-0.225775</td>\n",
              "      <td>-0.638672</td>\n",
              "      <td>0.101288</td>\n",
              "      <td>-0.339846</td>\n",
              "      <td>0.167170</td>\n",
              "      <td>0.125895</td>\n",
              "      <td>-0.008983</td>\n",
              "      <td>0.014724</td>\n",
              "      <td>2.69</td>\n",
              "      <td>0</td>\n",
              "    </tr>\n",
              "    <tr>\n",
              "      <th>2</th>\n",
              "      <td>1.0</td>\n",
              "      <td>-1.358354</td>\n",
              "      <td>-1.340163</td>\n",
              "      <td>1.773209</td>\n",
              "      <td>0.379780</td>\n",
              "      <td>-0.503198</td>\n",
              "      <td>1.800499</td>\n",
              "      <td>0.791461</td>\n",
              "      <td>0.247676</td>\n",
              "      <td>-1.514654</td>\n",
              "      <td>0.207643</td>\n",
              "      <td>0.624501</td>\n",
              "      <td>0.066084</td>\n",
              "      <td>0.717293</td>\n",
              "      <td>-0.165946</td>\n",
              "      <td>2.345865</td>\n",
              "      <td>-2.890083</td>\n",
              "      <td>1.109969</td>\n",
              "      <td>-0.121359</td>\n",
              "      <td>-2.261857</td>\n",
              "      <td>0.524980</td>\n",
              "      <td>0.247998</td>\n",
              "      <td>0.771679</td>\n",
              "      <td>0.909412</td>\n",
              "      <td>-0.689281</td>\n",
              "      <td>-0.327642</td>\n",
              "      <td>-0.139097</td>\n",
              "      <td>-0.055353</td>\n",
              "      <td>-0.059752</td>\n",
              "      <td>378.66</td>\n",
              "      <td>0</td>\n",
              "    </tr>\n",
              "    <tr>\n",
              "      <th>3</th>\n",
              "      <td>1.0</td>\n",
              "      <td>-0.966272</td>\n",
              "      <td>-0.185226</td>\n",
              "      <td>1.792993</td>\n",
              "      <td>-0.863291</td>\n",
              "      <td>-0.010309</td>\n",
              "      <td>1.247203</td>\n",
              "      <td>0.237609</td>\n",
              "      <td>0.377436</td>\n",
              "      <td>-1.387024</td>\n",
              "      <td>-0.054952</td>\n",
              "      <td>-0.226487</td>\n",
              "      <td>0.178228</td>\n",
              "      <td>0.507757</td>\n",
              "      <td>-0.287924</td>\n",
              "      <td>-0.631418</td>\n",
              "      <td>-1.059647</td>\n",
              "      <td>-0.684093</td>\n",
              "      <td>1.965775</td>\n",
              "      <td>-1.232622</td>\n",
              "      <td>-0.208038</td>\n",
              "      <td>-0.108300</td>\n",
              "      <td>0.005274</td>\n",
              "      <td>-0.190321</td>\n",
              "      <td>-1.175575</td>\n",
              "      <td>0.647376</td>\n",
              "      <td>-0.221929</td>\n",
              "      <td>0.062723</td>\n",
              "      <td>0.061458</td>\n",
              "      <td>123.50</td>\n",
              "      <td>0</td>\n",
              "    </tr>\n",
              "    <tr>\n",
              "      <th>4</th>\n",
              "      <td>2.0</td>\n",
              "      <td>-1.158233</td>\n",
              "      <td>0.877737</td>\n",
              "      <td>1.548718</td>\n",
              "      <td>0.403034</td>\n",
              "      <td>-0.407193</td>\n",
              "      <td>0.095921</td>\n",
              "      <td>0.592941</td>\n",
              "      <td>-0.270533</td>\n",
              "      <td>0.817739</td>\n",
              "      <td>0.753074</td>\n",
              "      <td>-0.822843</td>\n",
              "      <td>0.538196</td>\n",
              "      <td>1.345852</td>\n",
              "      <td>-1.119670</td>\n",
              "      <td>0.175121</td>\n",
              "      <td>-0.451449</td>\n",
              "      <td>-0.237033</td>\n",
              "      <td>-0.038195</td>\n",
              "      <td>0.803487</td>\n",
              "      <td>0.408542</td>\n",
              "      <td>-0.009431</td>\n",
              "      <td>0.798278</td>\n",
              "      <td>-0.137458</td>\n",
              "      <td>0.141267</td>\n",
              "      <td>-0.206010</td>\n",
              "      <td>0.502292</td>\n",
              "      <td>0.219422</td>\n",
              "      <td>0.215153</td>\n",
              "      <td>69.99</td>\n",
              "      <td>0</td>\n",
              "    </tr>\n",
              "  </tbody>\n",
              "</table>\n",
              "</div>"
            ],
            "text/plain": [
              "   Time        V1        V2        V3  ...       V27       V28  Amount  Class\n",
              "0   0.0 -1.359807 -0.072781  2.536347  ...  0.133558 -0.021053  149.62      0\n",
              "1   0.0  1.191857  0.266151  0.166480  ... -0.008983  0.014724    2.69      0\n",
              "2   1.0 -1.358354 -1.340163  1.773209  ... -0.055353 -0.059752  378.66      0\n",
              "3   1.0 -0.966272 -0.185226  1.792993  ...  0.062723  0.061458  123.50      0\n",
              "4   2.0 -1.158233  0.877737  1.548718  ...  0.219422  0.215153   69.99      0\n",
              "\n",
              "[5 rows x 31 columns]"
            ]
          },
          "metadata": {
            "tags": []
          },
          "execution_count": 100
        }
      ]
    },
    {
      "cell_type": "code",
      "metadata": {
        "colab": {
          "base_uri": "https://localhost:8080/"
        },
        "id": "7dw2W204BVJ2",
        "outputId": "6dc835ba-0052-4963-d79f-7be4d65593d6"
      },
      "source": [
        "data.info()"
      ],
      "execution_count": 101,
      "outputs": [
        {
          "output_type": "stream",
          "text": [
            "<class 'pandas.core.frame.DataFrame'>\n",
            "RangeIndex: 284807 entries, 0 to 284806\n",
            "Data columns (total 31 columns):\n",
            " #   Column  Non-Null Count   Dtype  \n",
            "---  ------  --------------   -----  \n",
            " 0   Time    284807 non-null  float64\n",
            " 1   V1      284807 non-null  float64\n",
            " 2   V2      284807 non-null  float64\n",
            " 3   V3      284807 non-null  float64\n",
            " 4   V4      284807 non-null  float64\n",
            " 5   V5      284807 non-null  float64\n",
            " 6   V6      284807 non-null  float64\n",
            " 7   V7      284807 non-null  float64\n",
            " 8   V8      284807 non-null  float64\n",
            " 9   V9      284807 non-null  float64\n",
            " 10  V10     284807 non-null  float64\n",
            " 11  V11     284807 non-null  float64\n",
            " 12  V12     284807 non-null  float64\n",
            " 13  V13     284807 non-null  float64\n",
            " 14  V14     284807 non-null  float64\n",
            " 15  V15     284807 non-null  float64\n",
            " 16  V16     284807 non-null  float64\n",
            " 17  V17     284807 non-null  float64\n",
            " 18  V18     284807 non-null  float64\n",
            " 19  V19     284807 non-null  float64\n",
            " 20  V20     284807 non-null  float64\n",
            " 21  V21     284807 non-null  float64\n",
            " 22  V22     284807 non-null  float64\n",
            " 23  V23     284807 non-null  float64\n",
            " 24  V24     284807 non-null  float64\n",
            " 25  V25     284807 non-null  float64\n",
            " 26  V26     284807 non-null  float64\n",
            " 27  V27     284807 non-null  float64\n",
            " 28  V28     284807 non-null  float64\n",
            " 29  Amount  284807 non-null  float64\n",
            " 30  Class   284807 non-null  int64  \n",
            "dtypes: float64(30), int64(1)\n",
            "memory usage: 67.4 MB\n"
          ],
          "name": "stdout"
        }
      ]
    },
    {
      "cell_type": "code",
      "metadata": {
        "id": "scGXhpEtEqAs"
      },
      "source": [
        "data=data.sample(frac=1) # shuffling data"
      ],
      "execution_count": 102,
      "outputs": []
    },
    {
      "cell_type": "code",
      "metadata": {
        "id": "Yz66U7ldOqEo"
      },
      "source": [
        " x=data.drop(\"Class\",axis=1).copy()\n",
        " y=data['Class']"
      ],
      "execution_count": 103,
      "outputs": []
    },
    {
      "cell_type": "code",
      "metadata": {
        "id": "NQJDQaB7OqEq"
      },
      "source": [
        "train_data,test_data,train_target,test_target=train_test_split(x,y,test_size=.30,random_state=30)"
      ],
      "execution_count": 104,
      "outputs": []
    },
    {
      "cell_type": "code",
      "metadata": {
        "id": "Ve5B26SiOqEq"
      },
      "source": [
        "mean = train_data.mean(axis=0)\n",
        "train_data -= mean\n",
        "std = train_data.std(axis=0)\n",
        "train_data /= std\n",
        "test_data -= mean\n",
        "test_data /= std"
      ],
      "execution_count": 105,
      "outputs": []
    },
    {
      "cell_type": "code",
      "metadata": {
        "id": "GbPuUrkpHxhh"
      },
      "source": [
        "partial_train_data,val_data,partial_train_target,val_target=train_test_split(train_data,train_target,test_size=.20,random_state=30)"
      ],
      "execution_count": 106,
      "outputs": []
    },
    {
      "cell_type": "code",
      "metadata": {
        "id": "T7HSLw-AOqEr",
        "colab": {
          "base_uri": "https://localhost:8080/"
        },
        "outputId": "58e1d9db-8619-401a-ce4f-58105e77da69"
      },
      "source": [
        "val_data.shape"
      ],
      "execution_count": 107,
      "outputs": [
        {
          "output_type": "execute_result",
          "data": {
            "text/plain": [
              "(39873, 30)"
            ]
          },
          "metadata": {
            "tags": []
          },
          "execution_count": 107
        }
      ]
    },
    {
      "cell_type": "code",
      "metadata": {
        "id": "9eXnrkobOqEs"
      },
      "source": [
        "model=Sequential()\n",
        "model.add(Dense(16,activation='relu',input_shape=(30,)))\n",
        "model.add(Dense(10,activation='relu'))\n",
        "model.add(Dense(8,activation='relu'))\n",
        "model.add(Dense(6,activation='relu'))\n",
        "model.add(Dense(1,activation='sigmoid'))\n",
        "model.compile(optimizer='rmsprop',loss=\"binary_crossentropy\",metrics=['accuracy'])"
      ],
      "execution_count": 119,
      "outputs": []
    },
    {
      "cell_type": "code",
      "metadata": {
        "id": "NegYaLR5OqEs",
        "colab": {
          "base_uri": "https://localhost:8080/"
        },
        "outputId": "3b3fa9fb-22da-4739-8572-92d72b1fbe83"
      },
      "source": [
        "history=model.fit(partial_train_data,partial_train_target,epochs=100,batch_size=512,validation_data=(val_data,val_target))"
      ],
      "execution_count": 120,
      "outputs": [
        {
          "output_type": "stream",
          "text": [
            "Epoch 1/100\n",
            "312/312 [==============================] - 1s 3ms/step - loss: 0.1991 - accuracy: 0.9978 - val_loss: 0.0061 - val_accuracy: 0.9981\n",
            "Epoch 2/100\n",
            "312/312 [==============================] - 0s 2ms/step - loss: 0.0057 - accuracy: 0.9983 - val_loss: 0.0047 - val_accuracy: 0.9992\n",
            "Epoch 3/100\n",
            "312/312 [==============================] - 1s 2ms/step - loss: 0.0041 - accuracy: 0.9994 - val_loss: 0.0042 - val_accuracy: 0.9993\n",
            "Epoch 4/100\n",
            "312/312 [==============================] - 0s 2ms/step - loss: 0.0031 - accuracy: 0.9994 - val_loss: 0.0038 - val_accuracy: 0.9993\n",
            "Epoch 5/100\n",
            "312/312 [==============================] - 1s 2ms/step - loss: 0.0036 - accuracy: 0.9994 - val_loss: 0.0039 - val_accuracy: 0.9993\n",
            "Epoch 6/100\n",
            "312/312 [==============================] - 1s 2ms/step - loss: 0.0032 - accuracy: 0.9995 - val_loss: 0.0034 - val_accuracy: 0.9994\n",
            "Epoch 7/100\n",
            "312/312 [==============================] - 1s 2ms/step - loss: 0.0028 - accuracy: 0.9994 - val_loss: 0.0034 - val_accuracy: 0.9993\n",
            "Epoch 8/100\n",
            "312/312 [==============================] - 1s 2ms/step - loss: 0.0032 - accuracy: 0.9995 - val_loss: 0.0036 - val_accuracy: 0.9994\n",
            "Epoch 9/100\n",
            "312/312 [==============================] - 1s 2ms/step - loss: 0.0031 - accuracy: 0.9995 - val_loss: 0.0035 - val_accuracy: 0.9993\n",
            "Epoch 10/100\n",
            "312/312 [==============================] - 0s 2ms/step - loss: 0.0025 - accuracy: 0.9996 - val_loss: 0.0032 - val_accuracy: 0.9994\n",
            "Epoch 11/100\n",
            "312/312 [==============================] - 1s 2ms/step - loss: 0.0030 - accuracy: 0.9994 - val_loss: 0.0032 - val_accuracy: 0.9993\n",
            "Epoch 12/100\n",
            "312/312 [==============================] - 1s 2ms/step - loss: 0.0025 - accuracy: 0.9995 - val_loss: 0.0034 - val_accuracy: 0.9993\n",
            "Epoch 13/100\n",
            "312/312 [==============================] - 1s 2ms/step - loss: 0.0031 - accuracy: 0.9994 - val_loss: 0.0034 - val_accuracy: 0.9993\n",
            "Epoch 14/100\n",
            "312/312 [==============================] - 0s 2ms/step - loss: 0.0026 - accuracy: 0.9995 - val_loss: 0.0034 - val_accuracy: 0.9993\n",
            "Epoch 15/100\n",
            "312/312 [==============================] - 1s 2ms/step - loss: 0.0030 - accuracy: 0.9995 - val_loss: 0.0033 - val_accuracy: 0.9993\n",
            "Epoch 16/100\n",
            "312/312 [==============================] - 1s 2ms/step - loss: 0.0025 - accuracy: 0.9995 - val_loss: 0.0034 - val_accuracy: 0.9992\n",
            "Epoch 17/100\n",
            "312/312 [==============================] - 1s 2ms/step - loss: 0.0022 - accuracy: 0.9996 - val_loss: 0.0033 - val_accuracy: 0.9994\n",
            "Epoch 18/100\n",
            "312/312 [==============================] - 1s 2ms/step - loss: 0.0024 - accuracy: 0.9995 - val_loss: 0.0036 - val_accuracy: 0.9993\n",
            "Epoch 19/100\n",
            "312/312 [==============================] - 1s 2ms/step - loss: 0.0024 - accuracy: 0.9995 - val_loss: 0.0034 - val_accuracy: 0.9993\n",
            "Epoch 20/100\n",
            "312/312 [==============================] - 1s 2ms/step - loss: 0.0026 - accuracy: 0.9996 - val_loss: 0.0033 - val_accuracy: 0.9994\n",
            "Epoch 21/100\n",
            "312/312 [==============================] - 0s 2ms/step - loss: 0.0025 - accuracy: 0.9995 - val_loss: 0.0031 - val_accuracy: 0.9994\n",
            "Epoch 22/100\n",
            "312/312 [==============================] - 1s 2ms/step - loss: 0.0019 - accuracy: 0.9997 - val_loss: 0.0034 - val_accuracy: 0.9993\n",
            "Epoch 23/100\n",
            "312/312 [==============================] - 1s 2ms/step - loss: 0.0020 - accuracy: 0.9996 - val_loss: 0.0038 - val_accuracy: 0.9993\n",
            "Epoch 24/100\n",
            "312/312 [==============================] - 1s 2ms/step - loss: 0.0021 - accuracy: 0.9996 - val_loss: 0.0033 - val_accuracy: 0.9994\n",
            "Epoch 25/100\n",
            "312/312 [==============================] - 1s 2ms/step - loss: 0.0021 - accuracy: 0.9996 - val_loss: 0.0034 - val_accuracy: 0.9993\n",
            "Epoch 26/100\n",
            "312/312 [==============================] - 1s 2ms/step - loss: 0.0019 - accuracy: 0.9997 - val_loss: 0.0033 - val_accuracy: 0.9993\n",
            "Epoch 27/100\n",
            "312/312 [==============================] - 1s 2ms/step - loss: 0.0019 - accuracy: 0.9996 - val_loss: 0.0034 - val_accuracy: 0.9995\n",
            "Epoch 28/100\n",
            "312/312 [==============================] - 1s 2ms/step - loss: 0.0023 - accuracy: 0.9996 - val_loss: 0.0038 - val_accuracy: 0.9993\n",
            "Epoch 29/100\n",
            "312/312 [==============================] - 1s 2ms/step - loss: 0.0021 - accuracy: 0.9996 - val_loss: 0.0036 - val_accuracy: 0.9993\n",
            "Epoch 30/100\n",
            "312/312 [==============================] - 1s 2ms/step - loss: 0.0019 - accuracy: 0.9996 - val_loss: 0.0037 - val_accuracy: 0.9994\n",
            "Epoch 31/100\n",
            "312/312 [==============================] - 1s 2ms/step - loss: 0.0026 - accuracy: 0.9996 - val_loss: 0.0041 - val_accuracy: 0.9992\n",
            "Epoch 32/100\n",
            "312/312 [==============================] - 1s 2ms/step - loss: 0.0017 - accuracy: 0.9997 - val_loss: 0.0036 - val_accuracy: 0.9993\n",
            "Epoch 33/100\n",
            "312/312 [==============================] - 1s 2ms/step - loss: 0.0019 - accuracy: 0.9997 - val_loss: 0.0037 - val_accuracy: 0.9991\n",
            "Epoch 34/100\n",
            "312/312 [==============================] - 1s 2ms/step - loss: 0.0021 - accuracy: 0.9996 - val_loss: 0.0037 - val_accuracy: 0.9992\n",
            "Epoch 35/100\n",
            "312/312 [==============================] - 1s 2ms/step - loss: 0.0020 - accuracy: 0.9997 - val_loss: 0.0045 - val_accuracy: 0.9991\n",
            "Epoch 36/100\n",
            "312/312 [==============================] - 1s 2ms/step - loss: 0.0015 - accuracy: 0.9997 - val_loss: 0.0046 - val_accuracy: 0.9991\n",
            "Epoch 37/100\n",
            "312/312 [==============================] - 1s 2ms/step - loss: 0.0020 - accuracy: 0.9997 - val_loss: 0.0039 - val_accuracy: 0.9992\n",
            "Epoch 38/100\n",
            "312/312 [==============================] - 1s 2ms/step - loss: 0.0023 - accuracy: 0.9996 - val_loss: 0.0044 - val_accuracy: 0.9992\n",
            "Epoch 39/100\n",
            "312/312 [==============================] - 1s 2ms/step - loss: 0.0019 - accuracy: 0.9997 - val_loss: 0.0037 - val_accuracy: 0.9992\n",
            "Epoch 40/100\n",
            "312/312 [==============================] - 1s 2ms/step - loss: 0.0020 - accuracy: 0.9996 - val_loss: 0.0049 - val_accuracy: 0.9992\n",
            "Epoch 41/100\n",
            "312/312 [==============================] - 1s 2ms/step - loss: 0.0020 - accuracy: 0.9997 - val_loss: 0.0042 - val_accuracy: 0.9992\n",
            "Epoch 42/100\n",
            "312/312 [==============================] - 1s 2ms/step - loss: 0.0022 - accuracy: 0.9996 - val_loss: 0.0038 - val_accuracy: 0.9993\n",
            "Epoch 43/100\n",
            "312/312 [==============================] - 1s 2ms/step - loss: 0.0022 - accuracy: 0.9996 - val_loss: 0.0047 - val_accuracy: 0.9991\n",
            "Epoch 44/100\n",
            "312/312 [==============================] - 1s 2ms/step - loss: 0.0019 - accuracy: 0.9997 - val_loss: 0.0043 - val_accuracy: 0.9993\n",
            "Epoch 45/100\n",
            "312/312 [==============================] - 1s 2ms/step - loss: 0.0022 - accuracy: 0.9996 - val_loss: 0.0046 - val_accuracy: 0.9992\n",
            "Epoch 46/100\n",
            "312/312 [==============================] - 1s 2ms/step - loss: 0.0018 - accuracy: 0.9997 - val_loss: 0.0044 - val_accuracy: 0.9992\n",
            "Epoch 47/100\n",
            "312/312 [==============================] - 1s 2ms/step - loss: 0.0019 - accuracy: 0.9996 - val_loss: 0.0047 - val_accuracy: 0.9991\n",
            "Epoch 48/100\n",
            "312/312 [==============================] - 1s 2ms/step - loss: 0.0018 - accuracy: 0.9997 - val_loss: 0.0046 - val_accuracy: 0.9991\n",
            "Epoch 49/100\n",
            "312/312 [==============================] - 1s 2ms/step - loss: 0.0018 - accuracy: 0.9996 - val_loss: 0.0038 - val_accuracy: 0.9993\n",
            "Epoch 50/100\n",
            "312/312 [==============================] - 1s 2ms/step - loss: 0.0018 - accuracy: 0.9997 - val_loss: 0.0044 - val_accuracy: 0.9992\n",
            "Epoch 51/100\n",
            "312/312 [==============================] - 1s 2ms/step - loss: 0.0024 - accuracy: 0.9996 - val_loss: 0.0044 - val_accuracy: 0.9992\n",
            "Epoch 52/100\n",
            "312/312 [==============================] - 1s 2ms/step - loss: 0.0021 - accuracy: 0.9996 - val_loss: 0.0042 - val_accuracy: 0.9992\n",
            "Epoch 53/100\n",
            "312/312 [==============================] - 1s 2ms/step - loss: 0.0022 - accuracy: 0.9996 - val_loss: 0.0057 - val_accuracy: 0.9992\n",
            "Epoch 54/100\n",
            "312/312 [==============================] - 1s 2ms/step - loss: 0.0018 - accuracy: 0.9996 - val_loss: 0.0056 - val_accuracy: 0.9991\n",
            "Epoch 55/100\n",
            "312/312 [==============================] - 1s 2ms/step - loss: 0.0019 - accuracy: 0.9997 - val_loss: 0.0044 - val_accuracy: 0.9993\n",
            "Epoch 56/100\n",
            "312/312 [==============================] - 1s 2ms/step - loss: 0.0020 - accuracy: 0.9997 - val_loss: 0.0054 - val_accuracy: 0.9992\n",
            "Epoch 57/100\n",
            "312/312 [==============================] - 1s 2ms/step - loss: 0.0024 - accuracy: 0.9997 - val_loss: 0.0044 - val_accuracy: 0.9992\n",
            "Epoch 58/100\n",
            "312/312 [==============================] - 1s 2ms/step - loss: 0.0019 - accuracy: 0.9996 - val_loss: 0.0050 - val_accuracy: 0.9991\n",
            "Epoch 59/100\n",
            "312/312 [==============================] - 1s 2ms/step - loss: 0.0018 - accuracy: 0.9997 - val_loss: 0.0045 - val_accuracy: 0.9993\n",
            "Epoch 60/100\n",
            "312/312 [==============================] - 1s 2ms/step - loss: 0.0017 - accuracy: 0.9997 - val_loss: 0.0046 - val_accuracy: 0.9992\n",
            "Epoch 61/100\n",
            "312/312 [==============================] - 1s 2ms/step - loss: 0.0019 - accuracy: 0.9997 - val_loss: 0.0050 - val_accuracy: 0.9991\n",
            "Epoch 62/100\n",
            "312/312 [==============================] - 1s 2ms/step - loss: 0.0024 - accuracy: 0.9996 - val_loss: 0.0049 - val_accuracy: 0.9992\n",
            "Epoch 63/100\n",
            "312/312 [==============================] - 1s 2ms/step - loss: 0.0019 - accuracy: 0.9996 - val_loss: 0.0055 - val_accuracy: 0.9991\n",
            "Epoch 64/100\n",
            "312/312 [==============================] - 1s 2ms/step - loss: 0.0024 - accuracy: 0.9996 - val_loss: 0.0052 - val_accuracy: 0.9990\n",
            "Epoch 65/100\n",
            "312/312 [==============================] - 1s 2ms/step - loss: 0.0016 - accuracy: 0.9997 - val_loss: 0.0048 - val_accuracy: 0.9992\n",
            "Epoch 66/100\n",
            "312/312 [==============================] - 1s 2ms/step - loss: 0.0016 - accuracy: 0.9997 - val_loss: 0.0050 - val_accuracy: 0.9991\n",
            "Epoch 67/100\n",
            "312/312 [==============================] - 1s 2ms/step - loss: 0.0019 - accuracy: 0.9996 - val_loss: 0.0047 - val_accuracy: 0.9992\n",
            "Epoch 68/100\n",
            "312/312 [==============================] - 1s 2ms/step - loss: 0.0017 - accuracy: 0.9997 - val_loss: 0.0048 - val_accuracy: 0.9991\n",
            "Epoch 69/100\n",
            "312/312 [==============================] - 1s 2ms/step - loss: 0.0018 - accuracy: 0.9996 - val_loss: 0.0049 - val_accuracy: 0.9991\n",
            "Epoch 70/100\n",
            "312/312 [==============================] - 1s 2ms/step - loss: 0.0019 - accuracy: 0.9997 - val_loss: 0.0057 - val_accuracy: 0.9989\n",
            "Epoch 71/100\n",
            "312/312 [==============================] - 1s 2ms/step - loss: 0.0015 - accuracy: 0.9997 - val_loss: 0.0052 - val_accuracy: 0.9991\n",
            "Epoch 72/100\n",
            "312/312 [==============================] - 1s 2ms/step - loss: 0.0019 - accuracy: 0.9996 - val_loss: 0.0051 - val_accuracy: 0.9992\n",
            "Epoch 73/100\n",
            "312/312 [==============================] - 1s 2ms/step - loss: 0.0016 - accuracy: 0.9997 - val_loss: 0.0052 - val_accuracy: 0.9992\n",
            "Epoch 74/100\n",
            "312/312 [==============================] - 1s 2ms/step - loss: 0.0016 - accuracy: 0.9997 - val_loss: 0.0052 - val_accuracy: 0.9992\n",
            "Epoch 75/100\n",
            "312/312 [==============================] - 1s 2ms/step - loss: 0.0014 - accuracy: 0.9997 - val_loss: 0.0051 - val_accuracy: 0.9992\n",
            "Epoch 76/100\n",
            "312/312 [==============================] - 1s 2ms/step - loss: 0.0015 - accuracy: 0.9997 - val_loss: 0.0050 - val_accuracy: 0.9991\n",
            "Epoch 77/100\n",
            "312/312 [==============================] - 1s 2ms/step - loss: 0.0016 - accuracy: 0.9997 - val_loss: 0.0054 - val_accuracy: 0.9991\n",
            "Epoch 78/100\n",
            "312/312 [==============================] - 1s 2ms/step - loss: 0.0016 - accuracy: 0.9997 - val_loss: 0.0059 - val_accuracy: 0.9991\n",
            "Epoch 79/100\n",
            "312/312 [==============================] - 1s 2ms/step - loss: 0.0017 - accuracy: 0.9996 - val_loss: 0.0059 - val_accuracy: 0.9991\n",
            "Epoch 80/100\n",
            "312/312 [==============================] - 1s 2ms/step - loss: 0.0016 - accuracy: 0.9997 - val_loss: 0.0052 - val_accuracy: 0.9991\n",
            "Epoch 81/100\n",
            "312/312 [==============================] - 1s 2ms/step - loss: 0.0017 - accuracy: 0.9997 - val_loss: 0.0053 - val_accuracy: 0.9991\n",
            "Epoch 82/100\n",
            "312/312 [==============================] - 1s 2ms/step - loss: 0.0015 - accuracy: 0.9997 - val_loss: 0.0052 - val_accuracy: 0.9990\n",
            "Epoch 83/100\n",
            "312/312 [==============================] - 1s 2ms/step - loss: 0.0020 - accuracy: 0.9997 - val_loss: 0.0055 - val_accuracy: 0.9991\n",
            "Epoch 84/100\n",
            "312/312 [==============================] - 1s 2ms/step - loss: 0.0020 - accuracy: 0.9997 - val_loss: 0.0053 - val_accuracy: 0.9991\n",
            "Epoch 85/100\n",
            "312/312 [==============================] - 1s 2ms/step - loss: 0.0014 - accuracy: 0.9997 - val_loss: 0.0056 - val_accuracy: 0.9992\n",
            "Epoch 86/100\n",
            "312/312 [==============================] - 1s 2ms/step - loss: 0.0015 - accuracy: 0.9997 - val_loss: 0.0053 - val_accuracy: 0.9991\n",
            "Epoch 87/100\n",
            "312/312 [==============================] - 1s 2ms/step - loss: 0.0016 - accuracy: 0.9997 - val_loss: 0.0055 - val_accuracy: 0.9991\n",
            "Epoch 88/100\n",
            "312/312 [==============================] - 1s 2ms/step - loss: 0.0020 - accuracy: 0.9996 - val_loss: 0.0055 - val_accuracy: 0.9992\n",
            "Epoch 89/100\n",
            "312/312 [==============================] - 1s 2ms/step - loss: 0.0017 - accuracy: 0.9997 - val_loss: 0.0052 - val_accuracy: 0.9993\n",
            "Epoch 90/100\n",
            "312/312 [==============================] - 1s 2ms/step - loss: 0.0019 - accuracy: 0.9996 - val_loss: 0.0055 - val_accuracy: 0.9992\n",
            "Epoch 91/100\n",
            "312/312 [==============================] - 1s 2ms/step - loss: 0.0017 - accuracy: 0.9997 - val_loss: 0.0050 - val_accuracy: 0.9992\n",
            "Epoch 92/100\n",
            "312/312 [==============================] - 1s 2ms/step - loss: 0.0018 - accuracy: 0.9996 - val_loss: 0.0049 - val_accuracy: 0.9992\n",
            "Epoch 93/100\n",
            "312/312 [==============================] - 1s 2ms/step - loss: 0.0017 - accuracy: 0.9997 - val_loss: 0.0054 - val_accuracy: 0.9991\n",
            "Epoch 94/100\n",
            "312/312 [==============================] - 1s 2ms/step - loss: 0.0015 - accuracy: 0.9997 - val_loss: 0.0052 - val_accuracy: 0.9992\n",
            "Epoch 95/100\n",
            "312/312 [==============================] - 1s 2ms/step - loss: 0.0013 - accuracy: 0.9997 - val_loss: 0.0055 - val_accuracy: 0.9989\n",
            "Epoch 96/100\n",
            "312/312 [==============================] - 1s 2ms/step - loss: 0.0022 - accuracy: 0.9995 - val_loss: 0.0055 - val_accuracy: 0.9991\n",
            "Epoch 97/100\n",
            "312/312 [==============================] - 1s 2ms/step - loss: 0.0020 - accuracy: 0.9997 - val_loss: 0.0054 - val_accuracy: 0.9992\n",
            "Epoch 98/100\n",
            "312/312 [==============================] - 1s 2ms/step - loss: 0.0012 - accuracy: 0.9997 - val_loss: 0.0049 - val_accuracy: 0.9992\n",
            "Epoch 99/100\n",
            "312/312 [==============================] - 1s 2ms/step - loss: 0.0015 - accuracy: 0.9997 - val_loss: 0.0050 - val_accuracy: 0.9992\n",
            "Epoch 100/100\n",
            "312/312 [==============================] - 1s 2ms/step - loss: 0.0016 - accuracy: 0.9997 - val_loss: 0.0055 - val_accuracy: 0.9992\n"
          ],
          "name": "stdout"
        }
      ]
    },
    {
      "cell_type": "code",
      "metadata": {
        "id": "75fEBqo4OqEt",
        "colab": {
          "base_uri": "https://localhost:8080/"
        },
        "outputId": "3d766017-4d0e-4fa0-c142-e64d992b3178"
      },
      "source": [
        "history.history.keys()"
      ],
      "execution_count": 121,
      "outputs": [
        {
          "output_type": "execute_result",
          "data": {
            "text/plain": [
              "dict_keys(['loss', 'accuracy', 'val_loss', 'val_accuracy'])"
            ]
          },
          "metadata": {
            "tags": []
          },
          "execution_count": 121
        }
      ]
    },
    {
      "cell_type": "code",
      "metadata": {
        "colab": {
          "base_uri": "https://localhost:8080/",
          "height": 295
        },
        "id": "qQJuBqUvM5lp",
        "outputId": "437c98a6-6404-43bd-c443-64a7c3961358"
      },
      "source": [
        "## cheking for loss graph\n",
        "loss_values = history_dic['loss']\n",
        "val_loss_values = history_dic['val_loss']\n",
        "epochs = range(len(loss_values))\n",
        "plt.plot(epochs, loss_values, 'bo', label='Training loss')\n",
        "plt.plot(epochs, val_loss_values, 'b', label='Validation loss')\n",
        "plt.title('Training and validation loss')\n",
        "plt.xlabel('Epochs')\n",
        "plt.ylabel('Loss')\n",
        "plt.legend()\n",
        "plt.show()"
      ],
      "execution_count": 122,
      "outputs": [
        {
          "output_type": "display_data",
          "data": {
            "image/png": "[encoded data removed]",
            "text/plain": [
              "<Figure size 432x288 with 1 Axes>"
            ]
          },
          "metadata": {
            "tags": [],
            "needs_background": "light"
          }
        }
      ]
    },
    {
      "cell_type": "code",
      "metadata": {
        "colab": {
          "base_uri": "https://localhost:8080/",
          "height": 279
        },
        "id": "x8ySyYqhNrt_",
        "outputId": "ac0cf992-2f3f-4548-ad6f-d8401f07b4c7"
      },
      "source": [
        "#making graph understandable\n",
        "def smooth_curve(points, factor=0.9):\n",
        "  smoothed_points = []\n",
        "  for point in points:\n",
        "    if smoothed_points:\n",
        "      previous = smoothed_points[-1]\n",
        "      smoothed_points.append(previous * factor + point * (1 - factor))\n",
        "    else:\n",
        "      smoothed_points.append(point)\n",
        "  return smoothed_points\n",
        "smooth_mae_history = smooth_curve(val_loss_values)\n",
        "plt.plot(range(1, len(smooth_mae_history) + 1), smooth_mae_history)\n",
        "plt.xlabel('Epochs')\n",
        "plt.ylabel('Validation MAE')\n",
        "plt.show()"
      ],
      "execution_count": 123,
      "outputs": [
        {
          "output_type": "display_data",
          "data": {
            "image/png": "[encoded data removed]",
            "text/plain": [
              "<Figure size 432x288 with 1 Axes>"
            ]
          },
          "metadata": {
            "tags": [],
            "needs_background": "light"
          }
        }
      ]
    },
    {
      "cell_type": "code",
      "metadata": {
        "id": "MOqweLOxOwql"
      },
      "source": [
        "model2=Sequential()\n",
        "model2.add(Dense(16,activation='relu',input_shape=(30,)))\n",
        "model2.add(Dense(8,activation='relu'))\n",
        "model2.add(Dense(1,activation='sigmoid'))\n",
        "model2.compile(optimizer='rmsprop',loss=\"binary_crossentropy\",metrics=['accuracy'])"
      ],
      "execution_count": 124,
      "outputs": []
    },
    {
      "cell_type": "code",
      "metadata": {
        "colab": {
          "base_uri": "https://localhost:8080/"
        },
        "id": "3ui69mjbPW3Z",
        "outputId": "2ab675ea-6609-4fce-d836-d5cc19596d0a"
      },
      "source": [
        "model2.fit(train_data,train_target,epochs=20,batch_size=256)"
      ],
      "execution_count": 125,
      "outputs": [
        {
          "output_type": "stream",
          "text": [
            "Epoch 1/20\n",
            "779/779 [==============================] - 1s 1ms/step - loss: 0.1588 - accuracy: 0.9623\n",
            "Epoch 2/20\n",
            "779/779 [==============================] - 1s 1ms/step - loss: 0.0044 - accuracy: 0.9991\n",
            "Epoch 3/20\n",
            "779/779 [==============================] - 1s 1ms/step - loss: 0.0036 - accuracy: 0.9994\n",
            "Epoch 4/20\n",
            "779/779 [==============================] - 1s 1ms/step - loss: 0.0039 - accuracy: 0.9994\n",
            "Epoch 5/20\n",
            "779/779 [==============================] - 1s 1ms/step - loss: 0.0036 - accuracy: 0.9994\n",
            "Epoch 6/20\n",
            "779/779 [==============================] - 1s 1ms/step - loss: 0.0038 - accuracy: 0.9993\n",
            "Epoch 7/20\n",
            "779/779 [==============================] - 1s 1ms/step - loss: 0.0031 - accuracy: 0.9995\n",
            "Epoch 8/20\n",
            "779/779 [==============================] - 1s 1ms/step - loss: 0.0036 - accuracy: 0.9993\n",
            "Epoch 9/20\n",
            "779/779 [==============================] - 1s 1ms/step - loss: 0.0028 - accuracy: 0.9995\n",
            "Epoch 10/20\n",
            "779/779 [==============================] - 1s 1ms/step - loss: 0.0025 - accuracy: 0.9995\n",
            "Epoch 11/20\n",
            "779/779 [==============================] - 1s 1ms/step - loss: 0.0026 - accuracy: 0.9994\n",
            "Epoch 12/20\n",
            "779/779 [==============================] - 1s 1ms/step - loss: 0.0028 - accuracy: 0.9994\n",
            "Epoch 13/20\n",
            "779/779 [==============================] - 1s 1ms/step - loss: 0.0029 - accuracy: 0.9994\n",
            "Epoch 14/20\n",
            "779/779 [==============================] - 1s 1ms/step - loss: 0.0031 - accuracy: 0.9995\n",
            "Epoch 15/20\n",
            "779/779 [==============================] - 1s 1ms/step - loss: 0.0028 - accuracy: 0.9994\n",
            "Epoch 16/20\n",
            "779/779 [==============================] - 1s 1ms/step - loss: 0.0034 - accuracy: 0.9994\n",
            "Epoch 17/20\n",
            "779/779 [==============================] - 1s 1ms/step - loss: 0.0029 - accuracy: 0.9995\n",
            "Epoch 18/20\n",
            "779/779 [==============================] - 1s 1ms/step - loss: 0.0028 - accuracy: 0.9995\n",
            "Epoch 19/20\n",
            "779/779 [==============================] - 1s 1ms/step - loss: 0.0026 - accuracy: 0.9995\n",
            "Epoch 20/20\n",
            "779/779 [==============================] - 1s 1ms/step - loss: 0.0025 - accuracy: 0.9995\n"
          ],
          "name": "stdout"
        },
        {
          "output_type": "execute_result",
          "data": {
            "text/plain": [
              "<tensorflow.python.keras.callbacks.History at 0x7f3684abe810>"
            ]
          },
          "metadata": {
            "tags": []
          },
          "execution_count": 125
        }
      ]
    },
    {
      "cell_type": "code",
      "metadata": {
        "colab": {
          "base_uri": "https://localhost:8080/"
        },
        "id": "9kEZwPtAQf-n",
        "outputId": "4e1171f1-c135-40c6-c495-d725abea9b54"
      },
      "source": [
        "model2.evaluate(test_data,test_target)"
      ],
      "execution_count": 126,
      "outputs": [
        {
          "output_type": "stream",
          "text": [
            "2671/2671 [==============================] - 2s 887us/step - loss: 0.0029 - accuracy: 0.9995\n"
          ],
          "name": "stdout"
        },
        {
          "output_type": "execute_result",
          "data": {
            "text/plain": [
              "[0.0029219132848083973, 0.9994616508483887]"
            ]
          },
          "metadata": {
            "tags": []
          },
          "execution_count": 126
        }
      ]
    },
    {
      "cell_type": "code",
      "metadata": {
        "colab": {
          "base_uri": "https://localhost:8080/"
        },
        "id": "HoEcYPxkQyuy",
        "outputId": "ccb3d62c-142e-4602-9818-2b17f3d5a2e9"
      },
      "source": [
        "model2.predict(test_data).sum()"
      ],
      "execution_count": 127,
      "outputs": [
        {
          "output_type": "execute_result",
          "data": {
            "text/plain": [
              "141.365"
            ]
          },
          "metadata": {
            "tags": []
          },
          "execution_count": 127
        }
      ]
    },
    {
      "cell_type": "code",
      "metadata": {
        "colab": {
          "base_uri": "https://localhost:8080/"
        },
        "id": "x84KEmMXTIAf",
        "outputId": "05b18c58-dabd-423c-c545-4f3c7a2f313c"
      },
      "source": [
        "test_data.shape"
      ],
      "execution_count": 128,
      "outputs": [
        {
          "output_type": "execute_result",
          "data": {
            "text/plain": [
              "(85443, 30)"
            ]
          },
          "metadata": {
            "tags": []
          },
          "execution_count": 128
        }
      ]
    },
    {
      "cell_type": "code",
      "metadata": {
        "colab": {
          "base_uri": "https://localhost:8080/"
        },
        "id": "OetWAuXkTXq-",
        "outputId": "584ed7e3-437e-4025-f252-497976a89c2c"
      },
      "source": [
        "141*100/85443"
      ],
      "execution_count": 129,
      "outputs": [
        {
          "output_type": "execute_result",
          "data": {
            "text/plain": [
              "0.1650222955654647"
            ]
          },
          "metadata": {
            "tags": []
          },
          "execution_count": 129
        }
      ]
    },
    {
      "cell_type": "code",
      "metadata": {
        "id": "M2eCWIc9Tc2V"
      },
      "source": [
        ""
      ],
      "execution_count": null,
      "outputs": []
    }
  ]
}