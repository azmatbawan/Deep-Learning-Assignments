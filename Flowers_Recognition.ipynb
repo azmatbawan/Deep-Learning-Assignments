{
  "nbformat": 4,
  "nbformat_minor": 0,
  "metadata": {
    "colab": {
      "name": "Flowers_Recognition.ipynb",
      "provenance": [],
      "collapsed_sections": []
    },
    "kernelspec": {
      "name": "python3",
      "display_name": "Python 3"
    }
  },
  "cells": [
    {
      "cell_type": "markdown",
      "metadata": {
        "id": "BXgJ6uT1NydQ"
      },
      "source": [
        "Assignment: Flowers Recognition <br>\n",
        "Dataset Description:<br>\n",
        "\n",
        "This dataset contains 4242 images of flowers.<br>\n",
        "The data collection is based on the data flicr, google images, yandex images.<br>\n",
        "You can use this datastet to recognize plants from the photo.<br>\n",
        "\n",
        "Attribute Information:<br>\n",
        "The pictures are divided into five classes: chamomile, tulip, rose, sunflower, dandelion.<br>\n",
        "For each class there are about 800 photos. Photos are not high resolution, about 320x240 pixels. <br>\n",
        "<b>Also explore how to resize images in tensorflow and then resize all the images to a same size. </b> <br>\n",
        "This is a Multiclass Classification Problem.<br>\n",
        "\n",
        "\n"
      ]
    },
    {
      "cell_type": "markdown",
      "metadata": {
        "id": "T7vy-ktuOKJH"
      },
      "source": [
        "WORKFLOW : <br>\n",
        "Load Data <br>\n",
        "Split into 60 and 40 ratio.<br>\n",
        "Encode labels.<br>\n",
        "Create Model<br>\n",
        "Compilation Step (Note : Its a Multiclass Classification problem , select loss , metrics according to it)<br>\n",
        "Train the Model.<br>\n",
        "If the model gets overfit tune your model by changing the units , No. of layers , epochs , add dropout layer or add Regularizer according to the need .<br>\n",
        "Prediction should be > 85%<br>\n",
        "Evaluation Step<br>\n",
        "Prediction<br>\n",
        "\n",
        "\n"
      ]
    },
    {
      "cell_type": "markdown",
      "metadata": {
        "id": "ri3Bg5qfPRic"
      },
      "source": [
        "Data : <br>\n",
        "https://drive.google.com/file/d/1-OX6wn5gA-bJpjPNfSyaYQLz-A-AB_uj/view?usp=sharing"
      ]
    },
    {
      "cell_type": "code",
      "metadata": {
        "colab": {
          "base_uri": "https://localhost:8080/"
        },
        "id": "nLcgv6KKepDZ",
        "outputId": "feb9e627-2629-44bb-b638-1a85394c93e7"
      },
      "source": [
        "from google.colab import drive\n",
        "drive.mount('/content/drive')"
      ],
      "execution_count": 1,
      "outputs": [
        {
          "output_type": "stream",
          "text": [
            "Mounted at /content/drive\n"
          ],
          "name": "stdout"
        }
      ]
    },
    {
      "cell_type": "code",
      "metadata": {
        "id": "CbVJPirLaEVs"
      },
      "source": [
        "import numpy as np\n",
        "import pandas as pd\n",
        "from matplotlib import pyplot as plt\n",
        "import os\n",
        "import PIL\n",
        "import PIL.Image\n",
        "import tensorflow as tf\n",
        "import pathlib\n",
        "from tensorflow.keras import layers\n",
        "import tensorflow_datasets as tfds\n",
        "import glob\n",
        "import pickle \n",
        "import cv2\n",
        "from skimage import io\n",
        "from skimage.transform import resize\n",
        "from sklearn.preprocessing import LabelBinarizer\n",
        "from sklearn.model_selection import train_test_split\n",
        "from tensorflow.keras.models import Sequential\n",
        "from tensorflow.keras.layers import Dense, Dropout, Flatten, Activation\n",
        "from tensorflow.keras.layers import Conv2D, MaxPooling2D, BatchNormalization\n",
        "from tensorflow.keras.optimizers import Adam\n",
        "from tensorflow.keras.preprocessing.image import ImageDataGenerator\n",
        "from tensorflow.keras.utils import to_categorical\n",
        "from pathlib import Path\n",
        "import seaborn as sb\n",
        "from tensorflow.keras import layers"
      ],
      "execution_count": 3,
      "outputs": []
    },
    {
      "cell_type": "code",
      "metadata": {
        "id": "dnZp3Tovl-DL"
      },
      "source": [
        "a=np.array([])\n"
      ],
      "execution_count": 42,
      "outputs": []
    },
    {
      "cell_type": "code",
      "metadata": {
        "colab": {
          "base_uri": "https://localhost:8080/"
        },
        "id": "cwGErsEhaZGK",
        "outputId": "f08205ca-6a27-451d-a2af-ddd821b1725d"
      },
      "source": [
        "datadir=Path(\"drive/MyDrive/flowers\")\n",
        "flowers = []\n",
        "features =[]\n",
        "labels = []\n",
        "for dir in datadir.iterdir():\n",
        "    flowers.append(dir.name)\n",
        "    print(dir.name)\n",
        "    for img_path in dir.iterdir():\n",
        "        if img_path.name.endswith(\"jpg\"):\n",
        "            labels.append(dir.name)\n",
        "            img_arr = cv2.imread(str(img_path), cv2.IMREAD_COLOR)\n",
        "            img_arr = cv2.resize(img_arr, (50,50))\n",
        "            features.append(img_arr)"
      ],
      "execution_count": 88,
      "outputs": [
        {
          "output_type": "stream",
          "text": [
            "flowers\n",
            "sunflower\n",
            "daisy\n",
            "rose\n",
            "dandelion\n",
            "tulip\n"
          ],
          "name": "stdout"
        }
      ]
    },
    {
      "cell_type": "code",
      "metadata": {
        "colab": {
          "base_uri": "https://localhost:8080/",
          "height": 267
        },
        "id": "BWboZLMbaZqS",
        "outputId": "a697059a-b1d4-4084-dea6-c8b7bd984039"
      },
      "source": [
        "plt.imshow(features[100])\n",
        "plt.show()"
      ],
      "execution_count": 89,
      "outputs": [
        {
          "output_type": "display_data",
          "data": {
            "image/png": "[encoded data removed]",
            "text/plain": [
              "<Figure size 432x288 with 1 Axes>"
            ]
          },
          "metadata": {
            "tags": [],
            "needs_background": "light"
          }
        }
      ]
    },
    {
      "cell_type": "code",
      "metadata": {
        "id": "nHbH1XhiaZtG"
      },
      "source": [
        "features = np.array(features)\n",
        "labels = np.array(labels)\n",
        "np.savez_compressed(\"flower_data\", features, labels)"
      ],
      "execution_count": 90,
      "outputs": []
    },
    {
      "cell_type": "code",
      "metadata": {
        "id": "Cu_CQar1aZwC"
      },
      "source": [
        "def prep(features, labels):\n",
        "    features=features.reshape(len(features), 50,50,3)/255.0\n",
        "    one_hot=LabelBinarizer()\n",
        "    labels=one_hot.fit_transform(labels)\n",
        "    return features, labels, one_hot"
      ],
      "execution_count": 109,
      "outputs": []
    },
    {
      "cell_type": "code",
      "metadata": {
        "id": "wzbJYU5SaZzl"
      },
      "source": [
        "model = Sequential()\n",
        "model.add(Conv2D(filters = 32, kernel_size = (5,5),padding = 'Same',activation ='relu', input_shape = (50,50,3)))\n",
        "model.add(MaxPooling2D(pool_size=(2,2)))\n",
        "model.add(Conv2D(filters = 64, kernel_size = (3,3),padding = 'Same',activation ='relu'))\n",
        "model.add(MaxPooling2D(pool_size=(2,2), strides=(2,2)))\n",
        "model.add(Conv2D(filters =96, kernel_size = (3,3),padding = 'Same',activation ='relu'))\n",
        "model.add(MaxPooling2D(pool_size=(2,2), strides=(2,2)))\n",
        "model.add(Conv2D(filters = 96, kernel_size = (3,3),padding = 'Same',activation ='relu'))\n",
        "model.add(MaxPooling2D(pool_size=(2,2), strides=(2,2)))\n",
        "model.add(Flatten())\n",
        "model.add(Dense(512))\n",
        "model.add(Activation('relu'))\n",
        "model.add(Dense(5, activation = \"softmax\"))\n",
        "model.compile(optimizer='Adam', loss='categorical_crossentropy', metrics = ['accuracy'])\n",
        "model.compile(optimizer=Adam(lr=0.001),loss='categorical_crossentropy',metrics=['accuracy'])"
      ],
      "execution_count": 110,
      "outputs": []
    },
    {
      "cell_type": "code",
      "metadata": {
        "id": "X6d32UZtaZ2a"
      },
      "source": [
        "x,y,one_hot=prep(features, labels)\n",
        "x_train,x_test,y_train,y_test=train_test_split(x, y, test_size=0.4, random_state=42, shuffle=True)"
      ],
      "execution_count": 111,
      "outputs": []
    },
    {
      "cell_type": "code",
      "metadata": {
        "colab": {
          "base_uri": "https://localhost:8080/"
        },
        "id": "q7g9HFJAaZ5L",
        "outputId": "1b8cb895-a73c-43e1-8dfa-d8bb6ecdf06e"
      },
      "source": [
        "training_model = model.fit(x_train, y_train, epochs=50, batch_size=128)"
      ],
      "execution_count": 112,
      "outputs": [
        {
          "output_type": "stream",
          "text": [
            "Epoch 1/50\n",
            "21/21 [==============================] - 15s 692ms/step - loss: 1.5314 - accuracy: 0.3005\n",
            "Epoch 2/50\n",
            "21/21 [==============================] - 14s 684ms/step - loss: 1.2185 - accuracy: 0.4751\n",
            "Epoch 3/50\n",
            "21/21 [==============================] - 14s 685ms/step - loss: 1.1700 - accuracy: 0.5170\n",
            "Epoch 4/50\n",
            "21/21 [==============================] - 14s 681ms/step - loss: 1.0477 - accuracy: 0.5863\n",
            "Epoch 5/50\n",
            "21/21 [==============================] - 14s 683ms/step - loss: 0.9875 - accuracy: 0.6119\n",
            "Epoch 6/50\n",
            "21/21 [==============================] - 14s 682ms/step - loss: 0.9462 - accuracy: 0.6248\n",
            "Epoch 7/50\n",
            "21/21 [==============================] - 15s 706ms/step - loss: 0.8671 - accuracy: 0.6604\n",
            "Epoch 8/50\n",
            "21/21 [==============================] - 15s 682ms/step - loss: 0.7982 - accuracy: 0.6935\n",
            "Epoch 9/50\n",
            "21/21 [==============================] - 14s 686ms/step - loss: 0.7843 - accuracy: 0.6929\n",
            "Epoch 10/50\n",
            "21/21 [==============================] - 14s 681ms/step - loss: 0.7016 - accuracy: 0.7364\n",
            "Epoch 11/50\n",
            "21/21 [==============================] - 14s 684ms/step - loss: 0.6595 - accuracy: 0.7627\n",
            "Epoch 12/50\n",
            "21/21 [==============================] - 14s 683ms/step - loss: 0.6200 - accuracy: 0.7556\n",
            "Epoch 13/50\n",
            "21/21 [==============================] - 14s 684ms/step - loss: 0.5680 - accuracy: 0.7865\n",
            "Epoch 14/50\n",
            "21/21 [==============================] - 14s 689ms/step - loss: 0.5630 - accuracy: 0.7845\n",
            "Epoch 15/50\n",
            "21/21 [==============================] - 14s 681ms/step - loss: 0.5331 - accuracy: 0.8045\n",
            "Epoch 16/50\n",
            "21/21 [==============================] - 14s 686ms/step - loss: 0.3721 - accuracy: 0.8597\n",
            "Epoch 17/50\n",
            "21/21 [==============================] - 14s 681ms/step - loss: 0.3071 - accuracy: 0.8945\n",
            "Epoch 18/50\n",
            "21/21 [==============================] - 14s 685ms/step - loss: 0.2701 - accuracy: 0.9161\n",
            "Epoch 19/50\n",
            "21/21 [==============================] - 14s 684ms/step - loss: 0.2535 - accuracy: 0.9079\n",
            "Epoch 20/50\n",
            "21/21 [==============================] - 14s 685ms/step - loss: 0.1624 - accuracy: 0.9467\n",
            "Epoch 21/50\n",
            "21/21 [==============================] - 14s 686ms/step - loss: 0.1188 - accuracy: 0.9659\n",
            "Epoch 22/50\n",
            "21/21 [==============================] - 15s 691ms/step - loss: 0.0944 - accuracy: 0.9708\n",
            "Epoch 23/50\n",
            "21/21 [==============================] - 15s 696ms/step - loss: 0.0637 - accuracy: 0.9857\n",
            "Epoch 24/50\n",
            "21/21 [==============================] - 14s 687ms/step - loss: 0.0772 - accuracy: 0.9770\n",
            "Epoch 25/50\n",
            "21/21 [==============================] - 14s 689ms/step - loss: 0.0523 - accuracy: 0.9878\n",
            "Epoch 26/50\n",
            "21/21 [==============================] - 14s 684ms/step - loss: 0.0426 - accuracy: 0.9888\n",
            "Epoch 27/50\n",
            "21/21 [==============================] - 14s 687ms/step - loss: 0.0318 - accuracy: 0.9955\n",
            "Epoch 28/50\n",
            "21/21 [==============================] - 14s 685ms/step - loss: 0.0232 - accuracy: 0.9962\n",
            "Epoch 29/50\n",
            "21/21 [==============================] - 14s 686ms/step - loss: 0.0212 - accuracy: 0.9964\n",
            "Epoch 30/50\n",
            "21/21 [==============================] - 14s 685ms/step - loss: 0.0276 - accuracy: 0.9953\n",
            "Epoch 31/50\n",
            "21/21 [==============================] - 14s 686ms/step - loss: 0.0160 - accuracy: 0.9974\n",
            "Epoch 32/50\n",
            "21/21 [==============================] - 14s 684ms/step - loss: 0.0188 - accuracy: 0.9949\n",
            "Epoch 33/50\n",
            "21/21 [==============================] - 14s 685ms/step - loss: 0.0180 - accuracy: 0.9983\n",
            "Epoch 34/50\n",
            "21/21 [==============================] - 14s 687ms/step - loss: 0.0131 - accuracy: 0.9983\n",
            "Epoch 35/50\n",
            "21/21 [==============================] - 14s 688ms/step - loss: 0.0082 - accuracy: 0.9984\n",
            "Epoch 36/50\n",
            "21/21 [==============================] - 14s 687ms/step - loss: 0.0069 - accuracy: 0.9986\n",
            "Epoch 37/50\n",
            "21/21 [==============================] - 14s 688ms/step - loss: 0.0125 - accuracy: 0.9981\n",
            "Epoch 38/50\n",
            "21/21 [==============================] - 14s 687ms/step - loss: 0.0214 - accuracy: 0.9975\n",
            "Epoch 39/50\n",
            "21/21 [==============================] - 14s 684ms/step - loss: 0.0134 - accuracy: 0.9980\n",
            "Epoch 40/50\n",
            "21/21 [==============================] - 14s 683ms/step - loss: 0.0072 - accuracy: 0.9994\n",
            "Epoch 41/50\n",
            "21/21 [==============================] - 14s 684ms/step - loss: 0.0069 - accuracy: 0.9989\n",
            "Epoch 42/50\n",
            "21/21 [==============================] - 14s 685ms/step - loss: 0.0065 - accuracy: 0.9992\n",
            "Epoch 43/50\n",
            "21/21 [==============================] - 14s 685ms/step - loss: 0.0130 - accuracy: 0.9982\n",
            "Epoch 44/50\n",
            "21/21 [==============================] - 14s 685ms/step - loss: 0.0092 - accuracy: 0.9976\n",
            "Epoch 45/50\n",
            "21/21 [==============================] - 15s 696ms/step - loss: 0.0273 - accuracy: 0.9973\n",
            "Epoch 46/50\n",
            "21/21 [==============================] - 15s 690ms/step - loss: 0.0347 - accuracy: 0.9986\n",
            "Epoch 47/50\n",
            "21/21 [==============================] - 14s 683ms/step - loss: 0.0180 - accuracy: 0.9983\n",
            "Epoch 48/50\n",
            "21/21 [==============================] - 14s 685ms/step - loss: 0.0146 - accuracy: 0.9973\n",
            "Epoch 49/50\n",
            "21/21 [==============================] - 14s 683ms/step - loss: 0.0084 - accuracy: 0.9985\n",
            "Epoch 50/50\n",
            "21/21 [==============================] - 14s 687ms/step - loss: 0.0153 - accuracy: 0.9966\n"
          ],
          "name": "stdout"
        }
      ]
    },
    {
      "cell_type": "code",
      "metadata": {
        "id": "GdcQw9L1aZ8y"
      },
      "source": [
        "model.save(\"flowermodel.h5\")"
      ],
      "execution_count": 113,
      "outputs": []
    },
    {
      "cell_type": "code",
      "metadata": {
        "id": "H4SpLl2jbIwe"
      },
      "source": [
        "def plot_accuracy(training_model):\n",
        "    plt.figure(figsize=(10,5))\n",
        "    plt.plot(training_model.history[\"accuracy\"], label=\"Accuracy\", color = \"b\")\n",
        "    plt.plot(training_model.history[\"loss\"], label = \"Loss\", color = \"r\")\n",
        "    plt.xlabel(\"Epochs\")\n",
        "    plt.legend()\n",
        "    plt.show()"
      ],
      "execution_count": 114,
      "outputs": []
    },
    {
      "cell_type": "code",
      "metadata": {
        "colab": {
          "base_uri": "https://localhost:8080/",
          "height": 334
        },
        "id": "pJGNzx2fbIz7",
        "outputId": "c7c745e6-da0f-44a9-f932-e6cc5dab25f4"
      },
      "source": [
        "plot_accuracy(training_model)"
      ],
      "execution_count": 115,
      "outputs": [
        {
          "output_type": "display_data",
          "data": {
            "image/png": "[encoded data removed]",
            "text/plain": [
              "<Figure size 720x360 with 1 Axes>"
            ]
          },
          "metadata": {
            "tags": [],
            "needs_background": "light"
          }
        }
      ]
    },
    {
      "cell_type": "code",
      "metadata": {
        "id": "XajDKgpcbI2y"
      },
      "source": [
        "model=tf.keras.models.load_model(\"flowermodel.h5\")"
      ],
      "execution_count": 116,
      "outputs": []
    },
    {
      "cell_type": "code",
      "metadata": {
        "colab": {
          "base_uri": "https://localhost:8080/"
        },
        "id": "-gDcl3EMbI51",
        "outputId": "8d9825c4-e400-4979-b677-cd038b8bc0a6"
      },
      "source": [
        "model.evaluate(x_test,y_test)"
      ],
      "execution_count": 118,
      "outputs": [
        {
          "output_type": "stream",
          "text": [
            "55/55 [==============================] - 3s 56ms/step - loss: 2.1130 - accuracy: 0.6618\n"
          ],
          "name": "stdout"
        },
        {
          "output_type": "execute_result",
          "data": {
            "text/plain": [
              "[2.113025188446045, 0.6618497371673584]"
            ]
          },
          "metadata": {
            "tags": []
          },
          "execution_count": 118
        }
      ]
    },
    {
      "cell_type": "code",
      "metadata": {
        "colab": {
          "base_uri": "https://localhost:8080/"
        },
        "id": "LLVaTKp_bI9T",
        "outputId": "f48e4257-b44a-48d4-8b9b-7fb5d7ec2aa4"
      },
      "source": [
        "\n"
      ],
      "execution_count": 119,
      "outputs": [
        {
          "output_type": "execute_result",
          "data": {
            "text/plain": [
              "1730.0"
            ]
          },
          "metadata": {
            "tags": []
          },
          "execution_count": 119
        }
      ]
    },
    {
      "cell_type": "code",
      "metadata": {
        "id": "b0nsp_dBbJAt"
      },
      "source": [
        ""
      ],
      "execution_count": null,
      "outputs": []
    },
    {
      "cell_type": "code",
      "metadata": {
        "id": "w06JjaC1bJDW"
      },
      "source": [
        ""
      ],
      "execution_count": null,
      "outputs": []
    },
    {
      "cell_type": "code",
      "metadata": {
        "id": "RbPa8XRPbJGA"
      },
      "source": [
        ""
      ],
      "execution_count": null,
      "outputs": []
    }
  ]
}